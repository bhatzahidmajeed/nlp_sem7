{
  "nbformat": 4,
  "nbformat_minor": 0,
  "metadata": {
    "colab": {
      "provenance": []
    },
    "kernelspec": {
      "name": "python3",
      "display_name": "Python 3"
    },
    "language_info": {
      "name": "python"
    }
  },
  "cells": [
    {
      "cell_type": "code",
      "source": [
        "import nltk as nltk\n",
        "nltk.download('punkt')"
      ],
      "metadata": {
        "colab": {
          "base_uri": "https://localhost:8080/"
        },
        "id": "qWPl_6--MQlw",
        "outputId": "bb96134f-f24d-4425-9daa-17c0c597b173"
      },
      "execution_count": null,
      "outputs": [
        {
          "output_type": "stream",
          "name": "stderr",
          "text": [
            "[nltk_data] Downloading package punkt to /root/nltk_data...\n",
            "[nltk_data]   Package punkt is already up-to-date!\n"
          ]
        },
        {
          "output_type": "execute_result",
          "data": {
            "text/plain": [
              "True"
            ]
          },
          "metadata": {},
          "execution_count": 10
        }
      ]
    },
    {
      "cell_type": "code",
      "execution_count": null,
      "metadata": {
        "id": "w86HgnECIRWz",
        "colab": {
          "base_uri": "https://localhost:8080/"
        },
        "outputId": "7e09f7c7-73b0-4f12-e3f6-00c1f97f1250"
      },
      "outputs": [
        {
          "output_type": "stream",
          "name": "stdout",
          "text": [
            "Drive already mounted at /content/drive/; to attempt to forcibly remount, call drive.mount(\"/content/drive/\", force_remount=True).\n"
          ]
        }
      ],
      "source": [
        "# moby_file = open('/moby.txt', 'r')\n",
        "# moby = moby_file.read()\n",
        "from google.colab import drive\n",
        "drive.mount('/content/drive/')\n",
        "moby_file = open('/content/drive/MyDrive/BE - pracs\\/NLP pracs/moby.txt', 'r')\n",
        "moby = moby_file.read()"
      ]
    },
    {
      "cell_type": "markdown",
      "source": [
        "Q1 How many tokens (words and punctuation symbols) are in text1? This function should\n",
        "return an integer."
      ],
      "metadata": {
        "id": "X4Lb22mtSJ4E"
      }
    },
    {
      "cell_type": "code",
      "source": [
        "from nltk.tokenize import word_tokenize\n",
        "moby_tokens = word_tokenize(moby)\n",
        "# print(moby_tokens)\n",
        "print(len(moby_tokens))"
      ],
      "metadata": {
        "colab": {
          "base_uri": "https://localhost:8080/"
        },
        "id": "ZJrLFnZeMlTJ",
        "outputId": "477f7e7f-4071-445f-e178-11c2f12a2d1f"
      },
      "execution_count": null,
      "outputs": [
        {
          "output_type": "stream",
          "name": "stdout",
          "text": [
            "160641\n"
          ]
        }
      ]
    },
    {
      "cell_type": "markdown",
      "source": [
        "Q2 How many unique tokens (unique words and punctuation) does text1 have? This function\n",
        "should return an integer."
      ],
      "metadata": {
        "id": "zFy_dV-4STbu"
      }
    },
    {
      "cell_type": "code",
      "source": [
        "moby_un = set(moby_tokens)\n",
        "print(len(moby_un))"
      ],
      "metadata": {
        "colab": {
          "base_uri": "https://localhost:8080/"
        },
        "id": "5nzm5OMvSVLX",
        "outputId": "1c0341d0-c852-421d-cd92-d425a6e96c44"
      },
      "execution_count": null,
      "outputs": [
        {
          "output_type": "stream",
          "name": "stdout",
          "text": [
            "16097\n"
          ]
        }
      ]
    },
    {
      "cell_type": "markdown",
      "source": [
        "Q3 What are the 20 most frequently occurring (unique) tokens in the text? What is their frequency? This function should return a list of 20 tuples where each tuple is of the form (token, frequency). The list should be sorted in descending order of frequency.\n",
        "Hint: use nltk.FreqDist(text1) that gives the frequency distribution of words in text1"
      ],
      "metadata": {
        "id": "S-B0-4eZTcZM"
      }
    },
    {
      "cell_type": "code",
      "source": [
        "# print(moby_tokens.most_common(20).list())\n",
        "from nltk.tokenize import word_tokenize\n",
        "from nltk.probability import FreqDist\n",
        "freq = FreqDist()\n",
        "for word in moby_tokens:\n",
        "  freq[word.lower()] += 1\n",
        "freq.pformat(20)"
      ],
      "metadata": {
        "colab": {
          "base_uri": "https://localhost:8080/",
          "height": 53
        },
        "id": "R4AwosVhTfKH",
        "outputId": "6dab4b85-f034-42d5-f9ae-ce5ebb1cc821"
      },
      "execution_count": null,
      "outputs": [
        {
          "output_type": "execute_result",
          "data": {
            "text/plain": [
              "\"FreqDist({',': 11924, 'the': 8863, '.': 4714, 'of': 4305, 'and': 3951, 'a': 3150, 'to': 3002, 'in': 2665, ';': 2415, 'that': 1961, 'his': 1646, 'it': 1540, 'i': 1437, 'he': 1235, 'is': 1132, 'as': 1121, 'but': 1108, 'with': 1103, 'was': 1060, 'for': 1019, ...})\""
            ],
            "application/vnd.google.colaboratory.intrinsic+json": {
              "type": "string"
            }
          },
          "metadata": {},
          "execution_count": 14
        }
      ]
    },
    {
      "cell_type": "markdown",
      "source": [
        "Q4 What tokens have a length of greater than 5 and frequency of more than 150? This function should return an alphabetically sorted list of the tokens that match the above constraints. To sort your list, use sorted()"
      ],
      "metadata": {
        "id": "S01Z7816WFuk"
      }
    },
    {
      "cell_type": "code",
      "source": [
        "freq_dict = sorted(dict(freq).items(), key = lambda x:x[1], reverse = True)\n",
        "freq_list = list(freq_dict)\n",
        "# type(freq_list[0])\n",
        "# freq_list\n",
        "# print(type(freq_list))\n",
        "list(sorted(filter(lambda x: x[1] > 150 and len(x[0]) > 5, freq_list)))"
      ],
      "metadata": {
        "colab": {
          "base_uri": "https://localhost:8080/"
        },
        "id": "TNzy8cjsWPL_",
        "outputId": "2c34da5f-07d5-4d0a-ff8d-aa79b5734ba7"
      },
      "execution_count": null,
      "outputs": [
        {
          "output_type": "execute_result",
          "data": {
            "text/plain": [
              "[('before', 180),\n",
              " ('captain', 242),\n",
              " ('little', 185),\n",
              " ('queequeg', 209),\n",
              " ('seemed', 176),\n",
              " ('though', 258),\n",
              " ('whales', 166)]"
            ]
          },
          "metadata": {},
          "execution_count": 22
        }
      ]
    },
    {
      "cell_type": "markdown",
      "source": [
        "Q5 Find the longest word in text1 and that word's length. This function should return a\n",
        "tuple (longest_word, length)."
      ],
      "metadata": {
        "id": "-Uk-YhLra0OX"
      }
    },
    {
      "cell_type": "code",
      "source": [
        "# freq_list = freq_list.sort(key = lambda x: len(x[0]))\n",
        "# freq[-1]\n",
        "# type(freq_list)\n",
        "freq_list = list(sorted(dict(freq).items(), key = lambda x:len(x[0]), reverse = True))\n",
        "longest_word = (freq_list[0][0], len(freq_list[0][0]))\n",
        "longest_word"
      ],
      "metadata": {
        "colab": {
          "base_uri": "https://localhost:8080/"
        },
        "id": "euyWevH6a2m_",
        "outputId": "e8018276-0c23-442f-f6e7-75ad40c929a7"
      },
      "execution_count": null,
      "outputs": [
        {
          "output_type": "execute_result",
          "data": {
            "text/plain": [
              "(\"twelve-o'clock-at-night\", 23)"
            ]
          },
          "metadata": {},
          "execution_count": 30
        }
      ]
    }
  ]
}